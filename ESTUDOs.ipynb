{
  "nbformat": 4,
  "nbformat_minor": 0,
  "metadata": {
    "colab": {
      "name": "ESTUDOs.ipynb",
      "provenance": [],
      "collapsed_sections": [],
      "authorship_tag": "ABX9TyOx+gqTuDzfcpQA3JPgq+x0",
      "include_colab_link": true
    },
    "kernelspec": {
      "name": "python3",
      "display_name": "Python 3"
    }
  },
  "cells": [
    {
      "cell_type": "markdown",
      "metadata": {
        "id": "view-in-github",
        "colab_type": "text"
      },
      "source": [
        "<a href=\"https://colab.research.google.com/github/Gabryelftw/iaestudos/blob/master/ESTUDOs.ipynb\" target=\"_parent\"><img src=\"https://colab.research.google.com/assets/colab-badge.svg\" alt=\"Open In Colab\"/></a>"
      ]
    },
    {
      "cell_type": "markdown",
      "metadata": {
        "id": "ONa3pjuyNUdA",
        "colab_type": "text"
      },
      "source": [
        "# **Ciencia de dados e trabalhar com Pandas**\n",
        "\n",
        "\n",
        "---\n",
        "\n"
      ]
    },
    {
      "cell_type": "markdown",
      "metadata": {
        "id": "Lxe_QTPkUvgu",
        "colab_type": "text"
      },
      "source": [
        "# *Comandos principais*"
      ]
    },
    {
      "cell_type": "code",
      "metadata": {
        "id": "NDdQc09pNTqb",
        "colab_type": "code",
        "colab": {}
      },
      "source": [
        "#importa as bibliotecas desejadas, como pandas, matplotlib, interact\n",
        "#nomeia o DATAFRAME a ser analisado como quiser (df ou dados) e após isso utiliza o comando pra ler\n",
        "import pandas as pd\n",
        "df = pd.read_csv('x')\n",
        "\n",
        "#ler as entradas e o data frame\n",
        "\n",
        "df.head()\n",
        "df.describe() #descreve media, mediana, quartis de \n",
        "df.shape() #descreve as matrizes\n",
        "df['COLUNA'] #ve os dados daquela unica coluna\n",
        "df['COLUNA'].value_counts #ve quantas vezes aparece cada resposta daquela unica coluna\n",
        "df['COLUNA'].mean() #media\n",
        "df['COLUNA'].median() #mediana\n",
        "df['COLUNA'].std() #desvio padrao \n",
        "df.COLUNA[0:X].mean() #calcula a media dos valores da coluna do 0 ate o X\n",
        "df.COLUNA.max() #informa o maximo ou minimo \n",
        "df.columns #mostra as colunas"
      ],
      "execution_count": null,
      "outputs": []
    },
    {
      "cell_type": "markdown",
      "metadata": {
        "id": "TUUKHoReU4zF",
        "colab_type": "text"
      },
      "source": [
        "# *Alterar colunas*"
      ]
    },
    {
      "cell_type": "code",
      "metadata": {
        "id": "Y61o0jEZQrMe",
        "colab_type": "code",
        "colab": {}
      },
      "source": [
        "df.drop(columns = ['COLUNA'], inplace = True) #Retirar as colunas não úteis para o DATAFRAME\n",
        "df = df.rename(columns={'NOME ANTIGO' : 'NOME NOVO'}) #Renomear o nome das colunas\n"
      ],
      "execution_count": null,
      "outputs": []
    },
    {
      "cell_type": "markdown",
      "metadata": {
        "id": "BT0lUCieUWJc",
        "colab_type": "text"
      },
      "source": [
        "# *# Plotagem de gráficos*\n",
        "\n",
        "\n",
        "---\n",
        "\n"
      ]
    },
    {
      "cell_type": "code",
      "metadata": {
        "id": "jYfZ45_cUVsx",
        "colab_type": "code",
        "colab": {}
      },
      "source": [
        "df['COLUNA'].hist() #monta um histograma da coluna\n",
        "df['coluna'].plot() #grafico de linha da coluna\n",
        "df['coluna'].plot(kind='box') #gera um grafico de boxplot\n",
        "\n",
        "#GRAFICO DO TIPO SCATTER (pontinhos, analise)\n",
        "plt.scatter('coluna1','coluna2')\n",
        "plt.title('Gráfico de análise\\n', fontsize=20)\n",
        "plt.xlabel('coluna1', fontsize=20)\n",
        "plt.ylabel('coluna2', fontsize=20)\n",
        "plt.show\n",
        "\n"
      ],
      "execution_count": null,
      "outputs": []
    },
    {
      "cell_type": "markdown",
      "metadata": {
        "id": "PLV2jVfzA-SA",
        "colab_type": "text"
      },
      "source": [
        "# Tratamento de valores inconsistentes\n"
      ]
    },
    {
      "cell_type": "code",
      "metadata": {
        "id": "H25Dla_2BCs-",
        "colab_type": "code",
        "colab": {}
      },
      "source": [
        "#usar o comando .loc para localizar algo dentro da coluna\n",
        "#Exemplo: queremos tratar o número de idades negativas de pessoas em um banco de dados\n",
        "#Daí usamos\n",
        "\n",
        "df.loc[df['COLUNA']<0]\n",
        "\n",
        "# Ao localizar o as pessoas com idade negativa, precisamos tratar esses numeros\n",
        "# geralmente substituindo pela media dos outros.\n",
        "# Precisamos achar a media dos outros de tal forma\n",
        "\n",
        "df['COLUNA'][df.coluna>0].mean()\n",
        "\n",
        "# chamei o comando e gerei a media com os numeros maiores que 0\n",
        "# assim, podemos depois substituir os numeros negativos por essa media\n",
        "\n",
        "df.loc[df.coluna<0, 'COLUNA'] = media \n",
        "\n",
        "# AGORA TRABALHANDO COM DADOS FALTANTES\n",
        "# Ao trabalhar com dados faltantes, para identificar naquela coluna quais sao os faltantes fazemos\n",
        "\n",
        "pd.isnull(df['coluna'])\n",
        "\n",
        "# dai gera o df completo, mas para uma analise melhor usamos\n",
        "\n",
        "df.loc[pd.isnull(df['coluna'])]\n",
        "\n"
      ],
      "execution_count": null,
      "outputs": []
    }
  ]
}