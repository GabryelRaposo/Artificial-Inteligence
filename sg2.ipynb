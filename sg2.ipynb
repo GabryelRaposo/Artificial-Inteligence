{
  "nbformat": 4,
  "nbformat_minor": 0,
  "metadata": {
    "colab": {
      "name": "sg2.ipynb",
      "provenance": [],
      "authorship_tag": "ABX9TyMSh7CRVk61IYN6FfEAT8Rh",
      "include_colab_link": true
    },
    "kernelspec": {
      "name": "python3",
      "display_name": "Python 3"
    }
  },
  "cells": [
    {
      "cell_type": "markdown",
      "metadata": {
        "id": "view-in-github",
        "colab_type": "text"
      },
      "source": [
        "<a href=\"https://colab.research.google.com/github/Gabryelftw/iaestudos/blob/master/sg2.ipynb\" target=\"_parent\"><img src=\"https://colab.research.google.com/assets/colab-badge.svg\" alt=\"Open In Colab\"/></a>"
      ]
    },
    {
      "cell_type": "code",
      "metadata": {
        "id": "rIjXmq9jkDVC"
      },
      "source": [
        "import sys\n",
        "import matplotlib\n",
        "import matplotlib.pyplot as plt\n",
        "import numpy as np\n",
        "import datetime\n",
        "import pandas as pd"
      ],
      "execution_count": 11,
      "outputs": []
    },
    {
      "cell_type": "code",
      "metadata": {
        "id": "zO7WkU2ekEAM",
        "outputId": "22d4feb6-1cc8-431f-f4bb-bc5e6ed0b4a6",
        "colab": {
          "base_uri": "https://localhost:8080/",
          "height": 335
        }
      },
      "source": [
        "data = pd.read_csv('https://www.dropbox.com/s/jl9istqp8j3uqg1/UFPB_2008-2019.csv.bz2?dl=1', compression='bz2')\n",
        "data.head(10)"
      ],
      "execution_count": 12,
      "outputs": [
        {
          "output_type": "execute_result",
          "data": {
            "text/html": [
              "<div>\n",
              "<style scoped>\n",
              "    .dataframe tbody tr th:only-of-type {\n",
              "        vertical-align: middle;\n",
              "    }\n",
              "\n",
              "    .dataframe tbody tr th {\n",
              "        vertical-align: top;\n",
              "    }\n",
              "\n",
              "    .dataframe thead th {\n",
              "        text-align: right;\n",
              "    }\n",
              "</style>\n",
              "<table border=\"1\" class=\"dataframe\">\n",
              "  <thead>\n",
              "    <tr style=\"text-align: right;\">\n",
              "      <th></th>\n",
              "      <th>Data</th>\n",
              "      <th>Hora</th>\n",
              "      <th>(kW)</th>\n",
              "      <th>(kVAr)</th>\n",
              "      <th>time</th>\n",
              "    </tr>\n",
              "  </thead>\n",
              "  <tbody>\n",
              "    <tr>\n",
              "      <th>0</th>\n",
              "      <td>01/01/2008</td>\n",
              "      <td>00:05</td>\n",
              "      <td>816.5</td>\n",
              "      <td>705.6</td>\n",
              "      <td>2008-01-01 00:05:00</td>\n",
              "    </tr>\n",
              "    <tr>\n",
              "      <th>1</th>\n",
              "      <td>01/01/2008</td>\n",
              "      <td>00:10</td>\n",
              "      <td>806.4</td>\n",
              "      <td>685.4</td>\n",
              "      <td>2008-01-01 00:10:00</td>\n",
              "    </tr>\n",
              "    <tr>\n",
              "      <th>2</th>\n",
              "      <td>01/01/2008</td>\n",
              "      <td>00:15</td>\n",
              "      <td>796.3</td>\n",
              "      <td>695.5</td>\n",
              "      <td>2008-01-01 00:15:00</td>\n",
              "    </tr>\n",
              "    <tr>\n",
              "      <th>3</th>\n",
              "      <td>01/01/2008</td>\n",
              "      <td>00:20</td>\n",
              "      <td>786.2</td>\n",
              "      <td>685.4</td>\n",
              "      <td>2008-01-01 00:20:00</td>\n",
              "    </tr>\n",
              "    <tr>\n",
              "      <th>4</th>\n",
              "      <td>01/01/2008</td>\n",
              "      <td>00:25</td>\n",
              "      <td>816.5</td>\n",
              "      <td>695.5</td>\n",
              "      <td>2008-01-01 00:25:00</td>\n",
              "    </tr>\n",
              "    <tr>\n",
              "      <th>5</th>\n",
              "      <td>01/01/2008</td>\n",
              "      <td>00:30</td>\n",
              "      <td>846.7</td>\n",
              "      <td>725.8</td>\n",
              "      <td>2008-01-01 00:30:00</td>\n",
              "    </tr>\n",
              "    <tr>\n",
              "      <th>6</th>\n",
              "      <td>01/01/2008</td>\n",
              "      <td>00:35</td>\n",
              "      <td>826.6</td>\n",
              "      <td>0.0</td>\n",
              "      <td>2008-01-01 00:35:00</td>\n",
              "    </tr>\n",
              "    <tr>\n",
              "      <th>7</th>\n",
              "      <td>01/01/2008</td>\n",
              "      <td>00:40</td>\n",
              "      <td>806.4</td>\n",
              "      <td>0.0</td>\n",
              "      <td>2008-01-01 00:40:00</td>\n",
              "    </tr>\n",
              "    <tr>\n",
              "      <th>8</th>\n",
              "      <td>01/01/2008</td>\n",
              "      <td>00:45</td>\n",
              "      <td>776.2</td>\n",
              "      <td>0.0</td>\n",
              "      <td>2008-01-01 00:45:00</td>\n",
              "    </tr>\n",
              "    <tr>\n",
              "      <th>9</th>\n",
              "      <td>01/01/2008</td>\n",
              "      <td>00:50</td>\n",
              "      <td>766.1</td>\n",
              "      <td>0.0</td>\n",
              "      <td>2008-01-01 00:50:00</td>\n",
              "    </tr>\n",
              "  </tbody>\n",
              "</table>\n",
              "</div>"
            ],
            "text/plain": [
              "         Data   Hora   (kW)  (kVAr)                 time\n",
              "0  01/01/2008  00:05  816.5   705.6  2008-01-01 00:05:00\n",
              "1  01/01/2008  00:10  806.4   685.4  2008-01-01 00:10:00\n",
              "2  01/01/2008  00:15  796.3   695.5  2008-01-01 00:15:00\n",
              "3  01/01/2008  00:20  786.2   685.4  2008-01-01 00:20:00\n",
              "4  01/01/2008  00:25  816.5   695.5  2008-01-01 00:25:00\n",
              "5  01/01/2008  00:30  846.7   725.8  2008-01-01 00:30:00\n",
              "6  01/01/2008  00:35  826.6     0.0  2008-01-01 00:35:00\n",
              "7  01/01/2008  00:40  806.4     0.0  2008-01-01 00:40:00\n",
              "8  01/01/2008  00:45  776.2     0.0  2008-01-01 00:45:00\n",
              "9  01/01/2008  00:50  766.1     0.0  2008-01-01 00:50:00"
            ]
          },
          "metadata": {
            "tags": []
          },
          "execution_count": 12
        }
      ]
    },
    {
      "cell_type": "code",
      "metadata": {
        "id": "PV1dNDmtZivI"
      },
      "source": [
        "data['Data'] = pd.to_datetime(data['Data'])"
      ],
      "execution_count": 16,
      "outputs": []
    },
    {
      "cell_type": "code",
      "metadata": {
        "id": "Iq0HzjFhZ_bF"
      },
      "source": [
        "data['dayofweek'] = data['Data'].dt.dayofweek"
      ],
      "execution_count": 14,
      "outputs": []
    },
    {
      "cell_type": "code",
      "metadata": {
        "id": "PNM62ZnkaWa9"
      },
      "source": [
        "#localizar qualquer coisa do DF\n",
        "data.loc[data['Data'] == '2015-12-25']"
      ],
      "execution_count": null,
      "outputs": []
    },
    {
      "cell_type": "code",
      "metadata": {
        "id": "drB8d6oQdxvK"
      },
      "source": [
        "data['Hollidays'] = 0"
      ],
      "execution_count": 24,
      "outputs": []
    },
    {
      "cell_type": "markdown",
      "metadata": {
        "id": "f8YnZ1in_kHe"
      },
      "source": [
        "# Definindo os feriados fixos anuais"
      ]
    },
    {
      "cell_type": "code",
      "metadata": {
        "id": "-3BH4CB4dIbV"
      },
      "source": [
        "data.loc[(data['Data'].dt.month == 12) & (data['Data'].dt.day == 25) | (data['Data'].dt.month == 1) & (data['Data'].dt.day == 1) | (data['Data'].dt.month == 4) & (data['Data'].dt.day == 21)\n",
        "| (data['Data'].dt.month == 5) & (data['Data'].dt.day == 1)| (data['Data'].dt.month == 9) & (data['Data'].dt.day == 7)| (data['Data'].dt.month == 10) & (data['Data'].dt.day == 12)\n",
        "| (data['Data'].dt.month == 11) & (data['Data'].dt.day == 2)| (data['Data'].dt.month == 11) & (data['Data'].dt.day == 15) | (data['Data'].dt.month == 11) & (data['Data'].dt.day == 15)\n",
        "| (data['Data'].dt.month == 11) & (data['Data'].dt.day == 15)| (data['Data'].dt.month == 11) & (data['Data'].dt.day == 15),\n",
        "'Hollidays'] = 1"
      ],
      "execution_count": 61,
      "outputs": []
    },
    {
      "cell_type": "markdown",
      "metadata": {
        "id": "Nu4LmrsF68ie"
      },
      "source": [
        "# Alocando os feriados móveis\n",
        "*   Carnaval\n",
        "*   Sexta Feira Santa\n",
        "*   Corpus Christi\n",
        "\n",
        "*Ano a Ano*\n"
      ]
    },
    {
      "cell_type": "code",
      "metadata": {
        "id": "HNo4QGNk58Dz"
      },
      "source": [
        "         #Ano 2008\n",
        "data.loc[(data['Data'].dt.month == 2) & (data['Data'].dt.day == 5) & (data['Data'].dt.year == 2008) | (data['Data'].dt.month == 3) & (data['Data'].dt.day == 21) & (data['Data'].dt.year == 2008) |\n",
        "         (data['Data'].dt.month == 5) & (data['Data'].dt.day == 22) & (data['Data'].dt.year == 2008), 'Hollidays'] = 1\n",
        "         #Ano 2009\n",
        "data.loc[(data['Data'].dt.month == 2) & (data['Data'].dt.day == 24) & (data['Data'].dt.year == 2009) | (data['Data'].dt.month == 4) & (data['Data'].dt.day == 10) & (data['Data'].dt.year == 2009) |\n",
        "         (data['Data'].dt.month == 6) & (data['Data'].dt.day == 11) & (data['Data'].dt.year == 2009), 'Hollidays'] = 1\n",
        "         #Ano 2010\n",
        "data.loc[(data['Data'].dt.month == 2) & (data['Data'].dt.day == 16) & (data['Data'].dt.year == 2010) | (data['Data'].dt.month == 4) & (data['Data'].dt.day == 2) & (data['Data'].dt.year == 2010) |\n",
        "         (data['Data'].dt.month == 6) & (data['Data'].dt.day == 3) & (data['Data'].dt.year == 2010), 'Hollidays'] = 1\n",
        "         #Ano 2011\n",
        "data.loc[(data['Data'].dt.month == 3) & (data['Data'].dt.day == 8) & (data['Data'].dt.year == 2011) | (data['Data'].dt.month == 4) & (data['Data'].dt.day == 22) & (data['Data'].dt.year == 2011) |\n",
        "         (data['Data'].dt.month == 6) & (data['Data'].dt.day == 23) & (data['Data'].dt.year == 2011), 'Hollidays'] = 1\n",
        "         #Ano 2012\n",
        "data.loc[(data['Data'].dt.month == 2) & (data['Data'].dt.day == 21) & (data['Data'].dt.year == 2012) | (data['Data'].dt.month == 4) & (data['Data'].dt.day == 6) & (data['Data'].dt.year == 2012) |\n",
        "         (data['Data'].dt.month == 6) & (data['Data'].dt.day == 7) & (data['Data'].dt.year == 2012), 'Hollidays'] = 1\n",
        "         #Ano 2013\n",
        "data.loc[(data['Data'].dt.month == 2) & (data['Data'].dt.day == 12) & (data['Data'].dt.year == 2013) | (data['Data'].dt.month == 3) & (data['Data'].dt.day == 29) & (data['Data'].dt.year == 2013) |\n",
        "         (data['Data'].dt.month == 5) & (data['Data'].dt.day == 30) & (data['Data'].dt.year == 2013), 'Hollidays'] = 1\n",
        "         #Ano 2014\n",
        "data.loc[(data['Data'].dt.month == 3) & (data['Data'].dt.day == 4) & (data['Data'].dt.year == 2014) | (data['Data'].dt.month == 4) & (data['Data'].dt.day == 18) & (data['Data'].dt.year == 2014) |\n",
        "         (data['Data'].dt.month == 5) & (data['Data'].dt.day == 19) & (data['Data'].dt.year == 2014), 'Hollidays'] = 1\n",
        "         #Ano 2015\n",
        "data.loc[(data['Data'].dt.month == 2) & (data['Data'].dt.day == 17) & (data['Data'].dt.year == 2015) | (data['Data'].dt.month == 4) & (data['Data'].dt.day == 3) & (data['Data'].dt.year == 2015) |\n",
        "         (data['Data'].dt.month == 6) & (data['Data'].dt.day == 4) & (data['Data'].dt.year == 2015), 'Hollidays'] = 1\n",
        "         #Ano 2016\n",
        "data.loc[(data['Data'].dt.month == 2) & (data['Data'].dt.day == 9) & (data['Data'].dt.year == 2016) | (data['Data'].dt.month == 3) & (data['Data'].dt.day == 25) & (data['Data'].dt.year == 2016) |\n",
        "         (data['Data'].dt.month == 5) & (data['Data'].dt.day == 26) & (data['Data'].dt.year == 2016), 'Hollidays'] = 1\n",
        "         #Ano 2017\n",
        "data.loc[(data['Data'].dt.month == 2) & (data['Data'].dt.day == 28) & (data['Data'].dt.year == 2017) | (data['Data'].dt.month == 4) & (data['Data'].dt.day == 14) & (data['Data'].dt.year == 2017) |\n",
        "         (data['Data'].dt.month == 6) & (data['Data'].dt.day == 15) & (data['Data'].dt.year == 2017), 'Hollidays'] = 1\n",
        "         #Ano 2018\n",
        "data.loc[(data['Data'].dt.month == 2) & (data['Data'].dt.day == 13) & (data['Data'].dt.year == 2018) | (data['Data'].dt.month == 3) & (data['Data'].dt.day == 30) & (data['Data'].dt.year == 2018) |\n",
        "         (data['Data'].dt.month == 5) & (data['Data'].dt.day == 31) & (data['Data'].dt.year == 2018), 'Hollidays'] = 1\n",
        "         #Ano 2019\n",
        "data.loc[(data['Data'].dt.month == 3) & (data['Data'].dt.day == 5) & (data['Data'].dt.year == 2019) | (data['Data'].dt.month == 4) & (data['Data'].dt.day == 19) & (data['Data'].dt.year == 2019) |\n",
        "         (data['Data'].dt.month == 6) & (data['Data'].dt.day == 20) & (data['Data'].dt.year == 2019), 'Hollidays'] = 1"
      ],
      "execution_count": 60,
      "outputs": []
    },
    {
      "cell_type": "code",
      "metadata": {
        "id": "iPcONAkn9RDW"
      },
      "source": [
        ""
      ],
      "execution_count": null,
      "outputs": []
    },
    {
      "cell_type": "code",
      "metadata": {
        "id": "3qph7ziX9Y2m"
      },
      "source": [
        ""
      ],
      "execution_count": null,
      "outputs": []
    },
    {
      "cell_type": "code",
      "metadata": {
        "id": "ybhMKx7Ed5uD"
      },
      "source": [
        "data.loc[data['Data'] == '2008-02-05']"
      ],
      "execution_count": null,
      "outputs": []
    }
  ]
}