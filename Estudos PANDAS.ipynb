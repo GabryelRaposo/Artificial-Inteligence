{
  "nbformat": 4,
  "nbformat_minor": 0,
  "metadata": {
    "colab": {
      "name": "ESTUDOs.ipynb",
      "provenance": [],
      "collapsed_sections": []
    },
    "kernelspec": {
      "name": "python3",
      "display_name": "Python 3"
    }
  },
  "cells": [
    {
      "cell_type": "markdown",
      "metadata": {
        "id": "ONa3pjuyNUdA"
      },
      "source": [
        "# **Ciencia de dados e trabalhar com Pandas**\n",
        "\n",
        "\n",
        "---\n",
        "\n"
      ]
    },
    {
      "cell_type": "markdown",
      "metadata": {
        "id": "Lxe_QTPkUvgu"
      },
      "source": [
        "# *Comandos principais*"
      ]
    },
    {
      "cell_type": "code",
      "metadata": {
        "id": "NDdQc09pNTqb"
      },
      "source": [
        "#importa as bibliotecas desejadas, como pandas, matplotlib, interact\n",
        "#nomeia o DATAFRAME a ser analisado como quiser (df ou dados) e após isso utiliza o comando pra ler\n",
        "import pandas as pd\n",
        "df = pd.read_csv('x')\n",
        "\n",
        "#ler as entradas e o data frame\n",
        "\n",
        "df.head()\n",
        "df.describe() #descreve media, mediana, quartis de \n",
        "df.shape() #descreve as matrizes\n",
        "df['COLUNA'] #ve os dados daquela unica coluna\n",
        "df['COLUNA'].value_counts #ve quantas vezes aparece cada resposta daquela unica coluna\n",
        "df['COLUNA'].mean() #media\n",
        "df['COLUNA'].median() #mediana\n",
        "df['COLUNA'].std() #desvio padrao \n",
        "df.COLUNA[0:X].mean() #calcula a media dos valores da coluna do 0 ate o X\n",
        "df.COLUNA.max() #informa o maximo ou minimo \n",
        "df.columns #mostra as colunas"
      ],
      "execution_count": null,
      "outputs": []
    },
    {
      "cell_type": "markdown",
      "metadata": {
        "id": "NfYmc7uRZn22"
      },
      "source": [
        "Reestruturando A DATA que não está na categorização correta\n"
      ]
    },
    {
      "cell_type": "code",
      "metadata": {
        "id": "3sN0w6_nZnjZ"
      },
      "source": [
        "df['Data'] = pd.to_datetime(df['Data'])\n",
        "\n",
        "#criando uma nova coluna com os dias da semana dessas datas\n",
        "\n",
        "df['day_of_week'] = df['Data'].dt.dayofweek\n",
        "\n",
        "#localizar qualquer coisa do DF utiliza-se o comando loc\n",
        "df.loc[df['Data'] == '2008-01-01']\n",
        "\n",
        "#com essa função dt ainda podemos usar\n",
        "\n",
        "df.loc[df['Data'].dt.month == x or df['Data'].dt.day == x]\n",
        "\n",
        "#para criar uma nova coluna apenas com 0 fazemos\n",
        "df['coluna'] = 0"
      ],
      "execution_count": null,
      "outputs": []
    },
    {
      "cell_type": "markdown",
      "metadata": {
        "id": "TUUKHoReU4zF"
      },
      "source": [
        "# *Alterar colunas*"
      ]
    },
    {
      "cell_type": "code",
      "metadata": {
        "id": "Y61o0jEZQrMe"
      },
      "source": [
        "df.drop(columns = ['COLUNA'], inplace = True) #Retirar as colunas não úteis para o DATAFRAME\n",
        "df = df.rename(columns={'NOME ANTIGO' : 'NOME NOVO'}) #Renomear o nome das colunas\n",
        "\n",
        "#adicionar uma nova coluna\n",
        "#procura o tamanho do df\n",
        "len(df)\n",
        "\n",
        "vetor = np.array([1,2,3,4,5]) #obviamente deve ter o mesmo tamanho de linhas do df\n",
        "df['nome coluna'] = vetor\n"
      ],
      "execution_count": null,
      "outputs": []
    },
    {
      "cell_type": "markdown",
      "metadata": {
        "id": "BT0lUCieUWJc"
      },
      "source": [
        "# *# Plotagem de gráficos*\n",
        "\n",
        "\n",
        "---\n",
        "\n"
      ]
    },
    {
      "cell_type": "code",
      "metadata": {
        "id": "jYfZ45_cUVsx"
      },
      "source": [
        "df['COLUNA'].hist() #monta um histograma da coluna\n",
        "df['coluna'].plot() #grafico de linha da coluna\n",
        "df['coluna'].plot(kind='box') #gera um grafico de boxplot\n",
        "\n",
        "#GRAFICO DO TIPO SCATTER (pontinhos, analise)\n",
        "plt.scatter('coluna1','coluna2')\n",
        "plt.title('Gráfico de análise\\n', fontsize=20)\n",
        "plt.xlabel('coluna1', fontsize=20)\n",
        "plt.ylabel('coluna2', fontsize=20)\n",
        "plt.show()\n",
        "\n",
        "#grafico INTERATIVO\n",
        "import plotly.express as px\n",
        "fig = px.line(df, x= , y=, title='Mean')\n",
        "fig.show()\n",
        "\n",
        "#grafico com matplotlib\n",
        "import matplotlib.pyplot as plt\n",
        "plt.figure(figsize = (10,10), facecolor = 'r' )\n",
        "plt.plot(dfout['Date'][:15], dfout['Mean'][:15])\n",
        "plt.title('Médias')\n",
        "plt.show()\n",
        "\n"
      ],
      "execution_count": null,
      "outputs": []
    },
    {
      "cell_type": "markdown",
      "metadata": {
        "id": "qtsTgXc7lZe5"
      },
      "source": [
        "Diferença de dias entre duas datas, função\n"
      ]
    },
    {
      "cell_type": "code",
      "metadata": {
        "id": "VorkYNWVlY8C"
      },
      "source": [
        "# Python3 program to find number of days\n",
        "# between two given dates\n",
        "from datetime import date\n",
        "\n",
        "def numOfDays(date1, date2):\n",
        "\treturn (date2-date1).days\n",
        "\t\n",
        "# Driver program\n",
        "date1 = date(2018, 12, 13)\n",
        "date2 = date(2019, 2, 25)\n",
        "print(numOfDays(date1, date2), \"days\")\n"
      ],
      "execution_count": null,
      "outputs": []
    },
    {
      "cell_type": "markdown",
      "metadata": {
        "id": "PLV2jVfzA-SA"
      },
      "source": [
        "# Tratamento de valores inconsistentes e faltantes\n"
      ]
    },
    {
      "cell_type": "code",
      "metadata": {
        "id": "H25Dla_2BCs-"
      },
      "source": [
        "#usar o comando .loc para localizar algo dentro da coluna\n",
        "#Exemplo: queremos tratar o número de idades negativas de pessoas em um banco de dados\n",
        "#Daí usamos\n",
        "\n",
        "df.loc[df['COLUNA']<0]\n",
        "\n",
        "# Ao localizar o as pessoas com idade negativa, precisamos tratar esses numeros\n",
        "# geralmente substituindo pela media dos outros.\n",
        "# Precisamos achar a media dos outros de tal forma\n",
        "\n",
        "df['COLUNA'][df.coluna>0].mean()\n",
        "\n",
        "# chamei o comando e gerei a media com os numeros maiores que 0\n",
        "# assim, podemos depois substituir os numeros negativos por essa media\n",
        "\n",
        "df.loc[df.coluna<0, 'COLUNA'] = media \n",
        "\n",
        "# AGORA TRABALHANDO COM DADOS FALTANTES\n",
        "# Ao trabalhar com dados faltantes, para identificar naquela coluna quais sao os faltantes fazemos\n",
        "\n",
        "pd.isnull(df['coluna'])\n",
        "\n",
        "# dai gera o df completo, mas para uma analise melhor usamos\n",
        "\n",
        "df.loc[pd.isnull(df['coluna'])]\n",
        "\n",
        "#Dividir o DataFrame\n",
        "\n",
        "Previsores = data.iloc[linhas, colunas].values # utilizar : se quiser todas as linhas, 1:4 para ir da coluna 1 ate a 3\n",
        "Classe = baseiloc[linhas,coluna].values\n",
        "\n",
        "#Agora já separados vamos fazer a analise\n",
        "\n",
        "from sklearn.preprocessing import Imputer as imp\n",
        "imputer = imp(missing_values = 'NaN', strategy = 'mean' ou 'median' ou 'mode', axis = 0 (coluna), axis = 1(linha)\n",
        "imputer = imputer.fit(previsores[linhas, colunas])\n",
        "previsores[linhas, colunas] = imputer.transform(previsores[linhas, colunas])\n",
        "\n"
      ],
      "execution_count": null,
      "outputs": []
    },
    {
      "cell_type": "markdown",
      "metadata": {
        "id": "6bYVwNymm4dy"
      },
      "source": [
        "# OneHotEncoding e LabelEncoding\n"
      ]
    },
    {
      "cell_type": "markdown",
      "metadata": {
        "id": "DEIy-ya-lu75"
      },
      "source": [
        "Transformação de variaveis de categórico em numérico para utilização na máquina\n"
      ]
    },
    {
      "cell_type": "code",
      "metadata": {
        "id": "xESgg7LM682z"
      },
      "source": [
        "from sklearn.preprocessing import LabelEncoder\n",
        "labelencoder = LabelEncoder()\n",
        "labels = labelencoder.fit_transform(df['coluna']) #array separado\n",
        "\n",
        "df['coluna nova'] =  labels\n"
      ],
      "execution_count": null,
      "outputs": []
    },
    {
      "cell_type": "markdown",
      "metadata": {
        "id": "vNJxtFespCHv"
      },
      "source": [
        "Caso haja uma enumeração ordinária é necessário usar o OneHotEncoding"
      ]
    },
    {
      "cell_type": "code",
      "metadata": {
        "id": "BaEjMtJhpBl1"
      },
      "source": [
        "add_column = pd.toget_dummies(df['coluna'])\n",
        "\n",
        "#gera os 0 e 1\n",
        "df = df.join(add_column)"
      ],
      "execution_count": null,
      "outputs": []
    }
  ]
}